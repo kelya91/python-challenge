{
 "cells": [
  {
   "cell_type": "code",
   "execution_count": 47,
   "metadata": {},
   "outputs": [
    {
     "name": "stdout",
     "output_type": "stream",
     "text": [
      "<_csv.reader object at 0x0000019C5B0B1BA8>\n"
     ]
    }
   ],
   "source": [
    "# Dependencies\n",
    "import csv\n",
    "\n",
    "# Files to load and output (Remember to change these)\n",
    "file_to_load = \"budget_data.csv\"\n",
    "file_to_output = \"budget_analysis_.txt\"\n",
    "\n",
    "# Track various revenue parameters\n",
    "total_months = 0\n",
    "prev_revenue = 0\n",
    "month_of_change = []\n",
    "revenue_change_list = []\n",
    "greatest_increase = [\"\", 0]\n",
    "greatest_decrease = [\"\", 9999999999999999999]\n",
    "total_revenue = 0\n",
    "csvpath = os.path.join('..', 'Resources', 'budget_data.csv')\n",
    "with open(csvpath, 'r') as csvfile:\n",
    "\n",
    "    # CSV reader specifies delimiter and variable that holds contents\n",
    "    csvreader = csv.reader(csvfile, delimiter=',')\n",
    "\n",
    "    print(csvreader)\n",
    "\n"
   ]
  },
  {
   "cell_type": "code",
   "execution_count": 51,
   "metadata": {},
   "outputs": [],
   "source": [
    "import os\n",
    "\n",
    "# Module for reading CSV files\n",
    "import csv\n",
    "filename = \"budget_data.csv\"\n",
    "Months =[]\n",
    "Profit_Loss =[]\n",
    "csvpath = os.path.join('..', 'Resources', 'budget_data.csv')\n",
    "\n",
    "\n",
    "with open(filename, 'r') as csvfile:\n",
    "\n",
    "    # CSV reader specifies delimiter and variable that holds contents\n",
    "    csvreader = csv.reader(csvfile)\n"
   ]
  },
  {
   "cell_type": "code",
   "execution_count": 50,
   "metadata": {},
   "outputs": [
    {
     "name": "stdout",
     "output_type": "stream",
     "text": [
      "\n",
      "Financial Analysis\n",
      "----------------------------\n",
      "Total Months: 88\n",
      "Total Revenue: $38382578\n",
      "Average Revenue Change: $7803.476744186047\n",
      "Greatest Increase in Revenue: Feb-2012 ($1926159)\n",
      "Greatest Decrease in Revenue: Sep-2013 ($-2196167)\n",
      "\n"
     ]
    }
   ],
   "source": [
    "# Read the csv and convert it into a list of dictionaries\n",
    "with open (file_to_load) as revenue_data:\n",
    "    reader = csv.DictReader(revenue_data)\n",
    "\n",
    "    for row in reader:\n",
    "\n",
    "        # Track the total\n",
    "        total_months = total_months + 1\n",
    "        total_revenue = total_revenue + int(row[\"Profit/Losses\"])\n",
    "\n",
    "        # Track the revenue change\n",
    "        revenue_change = int(row[\"Profit/Losses\"]) - prev_revenue\n",
    "        prev_revenue = int(row[\"Profit/Losses\"])\n",
    "        revenue_change_list = revenue_change_list + [revenue_change]\n",
    "        month_of_change = month_of_change + [row[\"Date\"]]\n",
    "\n",
    "        # Calculate the greatest increase\n",
    "        if (revenue_change > greatest_increase[1]):\n",
    "            greatest_increase[0] = row[\"Date\"]\n",
    "            greatest_increase[1] = revenue_change\n",
    "\n",
    "        # Calculate the greatest decrease\n",
    "        if (revenue_change < greatest_decrease[1]):\n",
    "            greatest_decrease[0] = row[\"Date\"]\n",
    "            greatest_decrease[1] = revenue_change\n",
    "\n",
    "# Calculate the Average Revenue Change\n",
    "revenue_avg = sum(revenue_change_list) / len(revenue_change_list)\n",
    "\n",
    "# Generate Output Summary\n",
    "output = (\n",
    "    f\"\\nFinancial Analysis\\n\"\n",
    "    f\"----------------------------\\n\"\n",
    "    f\"Total Months: {total_months}\\n\"\n",
    "    f\"Total Revenue: ${total_revenue}\\n\"\n",
    "    f\"Average Revenue Change: ${revenue_avg}\\n\"\n",
    "    f\"Greatest Increase in Revenue: {greatest_increase[0]} (${greatest_increase[1]})\\n\"\n",
    "    f\"Greatest Decrease in Revenue: {greatest_decrease[0]} (${greatest_decrease[1]})\\n\")\n",
    "\n",
    "# Print the output (to terminal)\n",
    "print(output)\n",
    "\n",
    "# Export the results to text file\n",
    "with open(file_to_output, \"w\") as txt_file:\n",
    "    txt_file.write(output)\n"
   ]
  },
  {
   "cell_type": "code",
   "execution_count": null,
   "metadata": {},
   "outputs": [],
   "source": []
  }
 ],
 "metadata": {
  "kernelspec": {
   "display_name": "Python 3",
   "language": "python",
   "name": "python3"
  },
  "language_info": {
   "codemirror_mode": {
    "name": "ipython",
    "version": 3
   },
   "file_extension": ".py",
   "mimetype": "text/x-python",
   "name": "python",
   "nbconvert_exporter": "python",
   "pygments_lexer": "ipython3",
   "version": "3.6.5"
  }
 },
 "nbformat": 4,
 "nbformat_minor": 2
}
